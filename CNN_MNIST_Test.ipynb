{
 "cells": [
  {
   "cell_type": "code",
   "execution_count": 36,
   "metadata": {},
   "outputs": [],
   "source": [
    "from keras.datasets import mnist\n",
    "from keras.models import Model\n",
    "from keras.layers import Conv2D\n",
    "from keras.layers import MaxPooling2D\n",
    "from keras.layers import Input\n",
    "from keras.layers import Dense\n",
    "from keras.layers import Dropout\n",
    "from keras.layers import Flatten\n",
    "from keras.utils import np_utils\n",
    "from keras.utils import multi_gpu_model\n",
    "from keras import backend as K\n",
    "\n",
    "import numpy\n",
    "import os\n",
    "\n",
    "# fix random seed for reproducibility \n",
    "seed = 7\n",
    "numpy.random.seed(seed)\n"
   ]
  },
  {
   "cell_type": "markdown",
   "metadata": {},
   "source": [
    "### Model Save Settings"
   ]
  },
  {
   "cell_type": "code",
   "execution_count": 31,
   "metadata": {},
   "outputs": [],
   "source": [
    "from keras.callbacks import ModelCheckpoint, EarlyStopping\n",
    "\n",
    "MODEL_SAVE_FOLDER_PATH = './model/'\n",
    "\n",
    "if not os.path.exists(MODEL_SAVE_FOLDER_PATH):\n",
    "    os.mkdir(MODEL_SAVE_FOLDER_PATH)\n",
    "\n",
    "model_path = MODEL_SAVE_FOLDER_PATH + 'mnist-' + '{epoch:02d}-{val_loss:.4f}.hdf5'\n",
    "\n",
    "cb_checkpoint = ModelCheckpoint(filepath=model_path, monitor='val_loss',\n",
    "                                verbose=1, save_best_only=True)\n",
    "\n",
    "cb_early_stopping = EarlyStopping(monitor='val_loss', patience=10)\n"
   ]
  },
  {
   "cell_type": "markdown",
   "metadata": {},
   "source": [
    "### Loading dataset"
   ]
  },
  {
   "cell_type": "code",
   "execution_count": 32,
   "metadata": {},
   "outputs": [
    {
     "name": "stdout",
     "output_type": "stream",
     "text": [
      "(60000, 28, 28) (60000,) (10000, 28, 28) (10000,)\n"
     ]
    }
   ],
   "source": [
    "(X_train, Y_train), (X_validation, Y_validation) = mnist.load_data()\n",
    "print(X_train.shape, Y_train.shape, X_validation.shape, Y_validation.shape)\n"
   ]
  },
  {
   "cell_type": "markdown",
   "metadata": {},
   "source": [
    "### Data Preprocessing"
   ]
  },
  {
   "cell_type": "code",
   "execution_count": 33,
   "metadata": {},
   "outputs": [
    {
     "name": "stdout",
     "output_type": "stream",
     "text": [
      "(60000, 28, 28, 1) (60000, 10) (10000, 28, 28, 1) (10000, 10)\n"
     ]
    }
   ],
   "source": [
    "X_train = X_train.reshape(X_train.shape[0], 28, 28, 1).astype('float32') / 255\n",
    "X_validation = X_validation.reshape(X_validation.shape[0], 28, 28, 1).astype('float32') / 255\n",
    "\n",
    "Y_train = np_utils.to_categorical(Y_train, 10)\n",
    "Y_validation = np_utils.to_categorical(Y_validation, 10)\n",
    "print(X_train.shape, Y_train.shape, X_validation.shape, Y_validation.shape)\n",
    "\n",
    "num_classes = Y_train.shape[1]"
   ]
  },
  {
   "cell_type": "markdown",
   "metadata": {},
   "source": [
    "### Build a model"
   ]
  },
  {
   "cell_type": "code",
   "execution_count": 38,
   "metadata": {},
   "outputs": [],
   "source": [
    "# Create a model\n",
    "input_x = Input(shape=(28, 28, 1))\n",
    "\n",
    "layer_1 = Conv2D(32, (5, 5), padding='same', activation='relu')(input_x)\n",
    "\n",
    "layer_2 = MaxPooling2D((2, 2), strides=(1, 1), padding='same')(layer_1)\n",
    "layer_2 = Dropout(0.2)(layer_2)\n",
    "\n",
    "dense_1 = Flatten()(layer_2)\n",
    "dense_2 = Dense(128, activation='sigmoid')(dense_1)\n",
    "output  = Dense(num_classes, activation='softmax')(dense_2)\n",
    "\n",
    "# This creates a model that includes\n",
    "# the Input layer and three Dense layers\n",
    "cnn_model = Model(inputs=[input_x], outputs=output)\n",
    "\n",
    "cnn_model.compile(optimizer='adam',\n",
    "              loss='categorical_crossentropy',\n",
    "              metrics=['accuracy'])\n"
   ]
  },
  {
   "cell_type": "markdown",
   "metadata": {},
   "source": [
    "### Model Training"
   ]
  },
  {
   "cell_type": "code",
   "execution_count": 40,
   "metadata": {},
   "outputs": [
    {
     "name": "stdout",
     "output_type": "stream",
     "text": [
      "Train on 60000 samples, validate on 10000 samples\n",
      "Epoch 1/50\n",
      "60000/60000 [==============================] - 2s 28us/step - loss: 0.0056 - acc: 0.9993 - val_loss: 0.0331 - val_acc: 0.9890\n",
      "\n",
      "Epoch 00001: val_loss did not improve from 0.03084\n",
      "Epoch 2/50\n",
      "60000/60000 [==============================] - 2s 28us/step - loss: 0.0049 - acc: 0.9993 - val_loss: 0.0316 - val_acc: 0.9899\n",
      "\n",
      "Epoch 00002: val_loss did not improve from 0.03084\n",
      "Epoch 3/50\n",
      "60000/60000 [==============================] - 2s 28us/step - loss: 0.0039 - acc: 0.9995 - val_loss: 0.0324 - val_acc: 0.9895\n",
      "\n",
      "Epoch 00003: val_loss did not improve from 0.03084\n",
      "Epoch 4/50\n",
      "60000/60000 [==============================] - 2s 28us/step - loss: 0.0034 - acc: 0.9995 - val_loss: 0.0340 - val_acc: 0.9895\n",
      "\n",
      "Epoch 00004: val_loss did not improve from 0.03084\n",
      "Epoch 5/50\n",
      "60000/60000 [==============================] - 2s 28us/step - loss: 0.0031 - acc: 0.9996 - val_loss: 0.0316 - val_acc: 0.9905\n",
      "\n",
      "Epoch 00005: val_loss did not improve from 0.03084\n",
      "Epoch 6/50\n",
      "60000/60000 [==============================] - 2s 28us/step - loss: 0.0031 - acc: 0.9996 - val_loss: 0.0299 - val_acc: 0.9906\n",
      "\n",
      "Epoch 00006: val_loss improved from 0.03084 to 0.02990, saving model to ./model/mnist-06-0.0299.hdf5\n",
      "Epoch 7/50\n",
      "60000/60000 [==============================] - 2s 28us/step - loss: 0.0017 - acc: 0.9999 - val_loss: 0.0325 - val_acc: 0.9898\n",
      "\n",
      "Epoch 00007: val_loss did not improve from 0.02990\n",
      "Epoch 8/50\n",
      "60000/60000 [==============================] - 2s 28us/step - loss: 0.0016 - acc: 0.9999 - val_loss: 0.0338 - val_acc: 0.9903\n",
      "\n",
      "Epoch 00008: val_loss did not improve from 0.02990\n",
      "Epoch 9/50\n",
      "60000/60000 [==============================] - 2s 29us/step - loss: 0.0017 - acc: 0.9998 - val_loss: 0.0371 - val_acc: 0.9887\n",
      "\n",
      "Epoch 00009: val_loss did not improve from 0.02990\n",
      "Epoch 10/50\n",
      "60000/60000 [==============================] - 2s 28us/step - loss: 0.0041 - acc: 0.9992 - val_loss: 0.0428 - val_acc: 0.9863\n",
      "\n",
      "Epoch 00010: val_loss did not improve from 0.02990\n",
      "Epoch 11/50\n",
      "60000/60000 [==============================] - 2s 28us/step - loss: 0.0070 - acc: 0.9981 - val_loss: 0.0399 - val_acc: 0.9889\n",
      "\n",
      "Epoch 00011: val_loss did not improve from 0.02990\n",
      "Epoch 12/50\n",
      "60000/60000 [==============================] - 2s 28us/step - loss: 0.0030 - acc: 0.9995 - val_loss: 0.0375 - val_acc: 0.9885\n",
      "\n",
      "Epoch 00012: val_loss did not improve from 0.02990\n",
      "Epoch 13/50\n",
      "60000/60000 [==============================] - 2s 28us/step - loss: 0.0013 - acc: 0.9999 - val_loss: 0.0344 - val_acc: 0.9892\n",
      "\n",
      "Epoch 00013: val_loss did not improve from 0.02990\n",
      "Epoch 14/50\n",
      "60000/60000 [==============================] - 2s 28us/step - loss: 7.3462e-04 - acc: 1.0000 - val_loss: 0.0329 - val_acc: 0.9905\n",
      "\n",
      "Epoch 00014: val_loss did not improve from 0.02990\n",
      "Epoch 15/50\n",
      "60000/60000 [==============================] - 2s 28us/step - loss: 4.6129e-04 - acc: 1.0000 - val_loss: 0.0331 - val_acc: 0.9904\n",
      "\n",
      "Epoch 00015: val_loss did not improve from 0.02990\n",
      "Epoch 16/50\n",
      "60000/60000 [==============================] - 2s 28us/step - loss: 3.8093e-04 - acc: 1.0000 - val_loss: 0.0337 - val_acc: 0.9906\n",
      "\n",
      "Epoch 00016: val_loss did not improve from 0.02990\n",
      "10000/10000 [==============================] - 0s 44us/step\n",
      "\n",
      "Accuracy: 0.9906\n"
     ]
    }
   ],
   "source": [
    "history = cnn_model.fit(X_train, Y_train,\n",
    "                    validation_data=(X_validation, Y_validation),\n",
    "                    epochs=50, batch_size=200, verbose=1,\n",
    "                    callbacks=[cb_checkpoint, cb_early_stopping])\n",
    "\n",
    "print('\\nAccuracy: {:.4f}'.format(cnn_model.evaluate(X_validation, Y_validation)[1]))\n",
    "\n",
    "y_vloss = history.history['val_loss']\n",
    "y_loss = history.history['loss']\n"
   ]
  },
  {
   "cell_type": "code",
   "execution_count": 43,
   "metadata": {},
   "outputs": [
    {
     "data": {
      "image/png": "[encoded data removed]",
      "text/plain": [
       "<Figure size 432x288 with 1 Axes>"
      ]
     },
     "metadata": {},
     "output_type": "display_data"
    }
   ],
   "source": [
    "import matplotlib.pyplot as plt\n",
    "%matplotlib inline\n",
    "\n",
    "x_len = numpy.arange(len(y_loss))\n",
    "plt.plot(x_len, y_loss, marker='.', c='blue', label=\"Train-set Loss\")\n",
    "plt.plot(x_len, y_vloss, marker='.', c='red', label=\"Validation-set Loss\")\n",
    "\n",
    "plt.legend(loc='upper right')\n",
    "plt.grid()\n",
    "plt.xlabel('epoch')\n",
    "plt.ylabel('loss')\n",
    "plt.show()"
   ]
  }
 ],
 "metadata": {
  "kernelspec": {
   "display_name": "Environment (conda_tensorflow_p36)",
   "language": "python",
   "name": "conda_tensorflow_p36"
  },
  "language_info": {
   "codemirror_mode": {
    "name": "ipython",
    "version": 3
   },
   "file_extension": ".py",
   "mimetype": "text/x-python",
   "name": "python",
   "nbconvert_exporter": "python",
   "pygments_lexer": "ipython3",
   "version": "3.6.5"
  }
 },
 "nbformat": 4,
 "nbformat_minor": 2
}
